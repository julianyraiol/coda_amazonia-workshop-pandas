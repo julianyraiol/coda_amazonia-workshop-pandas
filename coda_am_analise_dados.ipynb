{
 "cells": [
  {
   "cell_type": "markdown",
   "id": "1aaf85db-e9b8-47dc-a3e1-fe3c8fe40484",
   "metadata": {},
   "source": [
    "**Índice de Desenvolvimento da Educação Básica (Ideb)**\n",
    "\n",
    "O Índice de Desenvolvimento da Educação Básica (Ideb) foi criado em 2007 e reúne, em um só indicador, os resultados de dois conceitos igualmente importantes para a qualidade da educação: o fluxo escolar e as médias de desempenho nas avaliações.\n",
    "\n",
    "Ele é calculado a partir dos dados sobre aprovação escolar, obtidos no Censo Escolar, e das médias de desempenho nas avaliações do Inep, o Sistema de Avaliação da Educação Básica (Saeb) – para as unidades da federação e para o país, e a Prova Brasil – para os municípios."
   ]
  },
  {
   "cell_type": "markdown",
   "id": "acd7609e-4c10-4a85-9b5d-66a63edfeebb",
   "metadata": {},
   "source": [
    "## Importando bibliotecas"
   ]
  },
  {
   "cell_type": "code",
   "execution_count": 19,
   "id": "e79a35b1-b5e2-40a5-90e9-68a5e8d5f589",
   "metadata": {},
   "outputs": [],
   "source": [
    "import gmplot\n",
    "import pandas as pd\n",
    "import matplotlib.pyplot as plt\n",
    "\n",
    "%matplotlib inline"
   ]
  },
  {
   "cell_type": "markdown",
   "id": "9b84bc2b-ea1c-4b14-bfb4-83de0fddd478",
   "metadata": {},
   "source": [
    "## Carregando a base de dados"
   ]
  },
  {
   "cell_type": "code",
   "execution_count": 38,
   "id": "f3417208-f44a-4fd4-a047-0fc7df88b846",
   "metadata": {},
   "outputs": [],
   "source": [
    "df = pd.read_csv(\"municipio.csv\")"
   ]
  },
  {
   "cell_type": "markdown",
   "id": "f353962e-d3b7-49f8-937c-d21ab4a4260f",
   "metadata": {},
   "source": [
    "# Conhecendo os dados\n",
    "\n",
    "Antes de iniciar qualquer análise é preciso conhecer os dados que estamos trabalhando."
   ]
  },
  {
   "cell_type": "markdown",
   "id": "c34ddcaa-36fc-4790-8b35-1922e6db6e14",
   "metadata": {},
   "source": [
    "## 1. O que tem no conjunto de dados?"
   ]
  },
  {
   "cell_type": "markdown",
   "id": "668c2a4d-76ab-4400-af4e-f220079b5fa3",
   "metadata": {},
   "source": [
    "Para visualizar 5 primeiros valores do dataset, execute o seguinte comando:"
   ]
  },
  {
   "cell_type": "code",
   "execution_count": 39,
   "id": "c9887139-44b6-40bd-a0f1-c9f0aa228b41",
   "metadata": {},
   "outputs": [
    {
     "data": {
      "text/html": [
       "<div>\n",
       "<style scoped>\n",
       "    .dataframe tbody tr th:only-of-type {\n",
       "        vertical-align: middle;\n",
       "    }\n",
       "\n",
       "    .dataframe tbody tr th {\n",
       "        vertical-align: top;\n",
       "    }\n",
       "\n",
       "    .dataframe thead th {\n",
       "        text-align: right;\n",
       "    }\n",
       "</style>\n",
       "<table border=\"1\" class=\"dataframe\">\n",
       "  <thead>\n",
       "    <tr style=\"text-align: right;\">\n",
       "      <th></th>\n",
       "      <th>ano</th>\n",
       "      <th>sigla_uf</th>\n",
       "      <th>id_municipio</th>\n",
       "      <th>rede</th>\n",
       "      <th>ensino</th>\n",
       "      <th>anos_escolares</th>\n",
       "      <th>taxa_aprovacao</th>\n",
       "      <th>indicador_rendimento</th>\n",
       "      <th>nota_saeb_matematica</th>\n",
       "      <th>nota_saeb_lingua_portuguesa</th>\n",
       "      <th>nota_saeb_media_padronizada</th>\n",
       "      <th>ideb</th>\n",
       "      <th>projecao</th>\n",
       "    </tr>\n",
       "  </thead>\n",
       "  <tbody>\n",
       "    <tr>\n",
       "      <th>0</th>\n",
       "      <td>2005</td>\n",
       "      <td>AC</td>\n",
       "      <td>1200013</td>\n",
       "      <td>estadual</td>\n",
       "      <td>fundamental</td>\n",
       "      <td>finais (6-9)</td>\n",
       "      <td>90.0</td>\n",
       "      <td>0.899595</td>\n",
       "      <td>223.3</td>\n",
       "      <td>209.69</td>\n",
       "      <td>3.882210</td>\n",
       "      <td>3.5</td>\n",
       "      <td>NaN</td>\n",
       "    </tr>\n",
       "    <tr>\n",
       "      <th>1</th>\n",
       "      <td>2005</td>\n",
       "      <td>AC</td>\n",
       "      <td>1200013</td>\n",
       "      <td>estadual</td>\n",
       "      <td>fundamental</td>\n",
       "      <td>iniciais (1-5)</td>\n",
       "      <td>80.4</td>\n",
       "      <td>0.760600</td>\n",
       "      <td>167.8</td>\n",
       "      <td>154.39</td>\n",
       "      <td>3.972965</td>\n",
       "      <td>3.0</td>\n",
       "      <td>NaN</td>\n",
       "    </tr>\n",
       "    <tr>\n",
       "      <th>2</th>\n",
       "      <td>2005</td>\n",
       "      <td>AC</td>\n",
       "      <td>1200013</td>\n",
       "      <td>municipal</td>\n",
       "      <td>fundamental</td>\n",
       "      <td>finais (6-9)</td>\n",
       "      <td>NaN</td>\n",
       "      <td>NaN</td>\n",
       "      <td>NaN</td>\n",
       "      <td>NaN</td>\n",
       "      <td>NaN</td>\n",
       "      <td>NaN</td>\n",
       "      <td>NaN</td>\n",
       "    </tr>\n",
       "    <tr>\n",
       "      <th>3</th>\n",
       "      <td>2005</td>\n",
       "      <td>AC</td>\n",
       "      <td>1200013</td>\n",
       "      <td>municipal</td>\n",
       "      <td>fundamental</td>\n",
       "      <td>iniciais (1-5)</td>\n",
       "      <td>66.3</td>\n",
       "      <td>0.681560</td>\n",
       "      <td>169.8</td>\n",
       "      <td>163.00</td>\n",
       "      <td>4.168093</td>\n",
       "      <td>2.8</td>\n",
       "      <td>NaN</td>\n",
       "    </tr>\n",
       "    <tr>\n",
       "      <th>4</th>\n",
       "      <td>2005</td>\n",
       "      <td>AC</td>\n",
       "      <td>1200013</td>\n",
       "      <td>publica</td>\n",
       "      <td>fundamental</td>\n",
       "      <td>finais (6-9)</td>\n",
       "      <td>89.0</td>\n",
       "      <td>0.893661</td>\n",
       "      <td>223.3</td>\n",
       "      <td>209.69</td>\n",
       "      <td>3.882167</td>\n",
       "      <td>3.5</td>\n",
       "      <td>NaN</td>\n",
       "    </tr>\n",
       "  </tbody>\n",
       "</table>\n",
       "</div>"
      ],
      "text/plain": [
       "    ano sigla_uf  id_municipio       rede       ensino  anos_escolares  \\\n",
       "0  2005       AC       1200013   estadual  fundamental    finais (6-9)   \n",
       "1  2005       AC       1200013   estadual  fundamental  iniciais (1-5)   \n",
       "2  2005       AC       1200013  municipal  fundamental    finais (6-9)   \n",
       "3  2005       AC       1200013  municipal  fundamental  iniciais (1-5)   \n",
       "4  2005       AC       1200013    publica  fundamental    finais (6-9)   \n",
       "\n",
       "   taxa_aprovacao  indicador_rendimento  nota_saeb_matematica  \\\n",
       "0            90.0              0.899595                 223.3   \n",
       "1            80.4              0.760600                 167.8   \n",
       "2             NaN                   NaN                   NaN   \n",
       "3            66.3              0.681560                 169.8   \n",
       "4            89.0              0.893661                 223.3   \n",
       "\n",
       "   nota_saeb_lingua_portuguesa  nota_saeb_media_padronizada  ideb  projecao  \n",
       "0                       209.69                     3.882210   3.5       NaN  \n",
       "1                       154.39                     3.972965   3.0       NaN  \n",
       "2                          NaN                          NaN   NaN       NaN  \n",
       "3                       163.00                     4.168093   2.8       NaN  \n",
       "4                       209.69                     3.882167   3.5       NaN  "
      ]
     },
     "execution_count": 39,
     "metadata": {},
     "output_type": "execute_result"
    }
   ],
   "source": [
    "df.head()"
   ]
  },
  {
   "cell_type": "markdown",
   "id": "0f1f0edd-fe55-4557-aeef-95f955f24b33",
   "metadata": {},
   "source": [
    "Para visualizar os últimos valores do dataset, execute o seguinte comando: "
   ]
  },
  {
   "cell_type": "code",
   "execution_count": 40,
   "id": "60d17b02-cb22-4529-abe5-a6f5b80cb911",
   "metadata": {},
   "outputs": [
    {
     "data": {
      "text/html": [
       "<div>\n",
       "<style scoped>\n",
       "    .dataframe tbody tr th:only-of-type {\n",
       "        vertical-align: middle;\n",
       "    }\n",
       "\n",
       "    .dataframe tbody tr th {\n",
       "        vertical-align: top;\n",
       "    }\n",
       "\n",
       "    .dataframe thead th {\n",
       "        text-align: right;\n",
       "    }\n",
       "</style>\n",
       "<table border=\"1\" class=\"dataframe\">\n",
       "  <thead>\n",
       "    <tr style=\"text-align: right;\">\n",
       "      <th></th>\n",
       "      <th>ano</th>\n",
       "      <th>sigla_uf</th>\n",
       "      <th>id_municipio</th>\n",
       "      <th>rede</th>\n",
       "      <th>ensino</th>\n",
       "      <th>anos_escolares</th>\n",
       "      <th>taxa_aprovacao</th>\n",
       "      <th>indicador_rendimento</th>\n",
       "      <th>nota_saeb_matematica</th>\n",
       "      <th>nota_saeb_lingua_portuguesa</th>\n",
       "      <th>nota_saeb_media_padronizada</th>\n",
       "      <th>ideb</th>\n",
       "      <th>projecao</th>\n",
       "    </tr>\n",
       "  </thead>\n",
       "  <tbody>\n",
       "    <tr>\n",
       "      <th>294421</th>\n",
       "      <td>2021</td>\n",
       "      <td>TO</td>\n",
       "      <td>1722107</td>\n",
       "      <td>municipal</td>\n",
       "      <td>fundamental</td>\n",
       "      <td>finais (6-9)</td>\n",
       "      <td>NaN</td>\n",
       "      <td>NaN</td>\n",
       "      <td>NaN</td>\n",
       "      <td>NaN</td>\n",
       "      <td>NaN</td>\n",
       "      <td>NaN</td>\n",
       "      <td>4.1</td>\n",
       "    </tr>\n",
       "    <tr>\n",
       "      <th>294422</th>\n",
       "      <td>2021</td>\n",
       "      <td>TO</td>\n",
       "      <td>1722107</td>\n",
       "      <td>municipal</td>\n",
       "      <td>fundamental</td>\n",
       "      <td>iniciais (1-5)</td>\n",
       "      <td>NaN</td>\n",
       "      <td>NaN</td>\n",
       "      <td>NaN</td>\n",
       "      <td>NaN</td>\n",
       "      <td>NaN</td>\n",
       "      <td>NaN</td>\n",
       "      <td>5.0</td>\n",
       "    </tr>\n",
       "    <tr>\n",
       "      <th>294423</th>\n",
       "      <td>2021</td>\n",
       "      <td>TO</td>\n",
       "      <td>1722107</td>\n",
       "      <td>publica</td>\n",
       "      <td>fundamental</td>\n",
       "      <td>finais (6-9)</td>\n",
       "      <td>NaN</td>\n",
       "      <td>NaN</td>\n",
       "      <td>NaN</td>\n",
       "      <td>NaN</td>\n",
       "      <td>NaN</td>\n",
       "      <td>NaN</td>\n",
       "      <td>5.4</td>\n",
       "    </tr>\n",
       "    <tr>\n",
       "      <th>294424</th>\n",
       "      <td>2021</td>\n",
       "      <td>TO</td>\n",
       "      <td>1722107</td>\n",
       "      <td>publica</td>\n",
       "      <td>fundamental</td>\n",
       "      <td>iniciais (1-5)</td>\n",
       "      <td>NaN</td>\n",
       "      <td>NaN</td>\n",
       "      <td>NaN</td>\n",
       "      <td>NaN</td>\n",
       "      <td>NaN</td>\n",
       "      <td>NaN</td>\n",
       "      <td>5.7</td>\n",
       "    </tr>\n",
       "    <tr>\n",
       "      <th>294425</th>\n",
       "      <td>2021</td>\n",
       "      <td>TO</td>\n",
       "      <td>1722107</td>\n",
       "      <td>publica</td>\n",
       "      <td>medio</td>\n",
       "      <td>todos (1-4)</td>\n",
       "      <td>NaN</td>\n",
       "      <td>NaN</td>\n",
       "      <td>NaN</td>\n",
       "      <td>NaN</td>\n",
       "      <td>NaN</td>\n",
       "      <td>NaN</td>\n",
       "      <td>4.3</td>\n",
       "    </tr>\n",
       "  </tbody>\n",
       "</table>\n",
       "</div>"
      ],
      "text/plain": [
       "         ano sigla_uf  id_municipio       rede       ensino  anos_escolares  \\\n",
       "294421  2021       TO       1722107  municipal  fundamental    finais (6-9)   \n",
       "294422  2021       TO       1722107  municipal  fundamental  iniciais (1-5)   \n",
       "294423  2021       TO       1722107    publica  fundamental    finais (6-9)   \n",
       "294424  2021       TO       1722107    publica  fundamental  iniciais (1-5)   \n",
       "294425  2021       TO       1722107    publica        medio     todos (1-4)   \n",
       "\n",
       "        taxa_aprovacao  indicador_rendimento  nota_saeb_matematica  \\\n",
       "294421             NaN                   NaN                   NaN   \n",
       "294422             NaN                   NaN                   NaN   \n",
       "294423             NaN                   NaN                   NaN   \n",
       "294424             NaN                   NaN                   NaN   \n",
       "294425             NaN                   NaN                   NaN   \n",
       "\n",
       "        nota_saeb_lingua_portuguesa  nota_saeb_media_padronizada  ideb  \\\n",
       "294421                          NaN                          NaN   NaN   \n",
       "294422                          NaN                          NaN   NaN   \n",
       "294423                          NaN                          NaN   NaN   \n",
       "294424                          NaN                          NaN   NaN   \n",
       "294425                          NaN                          NaN   NaN   \n",
       "\n",
       "        projecao  \n",
       "294421       4.1  \n",
       "294422       5.0  \n",
       "294423       5.4  \n",
       "294424       5.7  \n",
       "294425       4.3  "
      ]
     },
     "execution_count": 40,
     "metadata": {},
     "output_type": "execute_result"
    }
   ],
   "source": [
    "df.tail()"
   ]
  },
  {
   "cell_type": "markdown",
   "id": "5e95daaa-7cd0-4e5e-b3d7-a94452e6fa0d",
   "metadata": {},
   "source": [
    "Olhando de forma rápida, conseguimos identificar dados faltantes nas colunas. Essas informações estão identificadas como **NaN**"
   ]
  },
  {
   "cell_type": "code",
   "execution_count": 41,
   "id": "d1725edc-0bff-4ee8-a400-769725ee63a3",
   "metadata": {},
   "outputs": [
    {
     "name": "stdout",
     "output_type": "stream",
     "text": [
      "O dataset possui 294426 linhas\n",
      "O dataset possui 13 colunas\n"
     ]
    }
   ],
   "source": [
    "x = df.shape[0]\n",
    "y = df.shape[1]\n",
    "\n",
    "\n",
    "print(\"O dataset possui %s linhas\" %x)\n",
    "print(\"O dataset possui %s colunas\" %y)"
   ]
  },
  {
   "cell_type": "code",
   "execution_count": 45,
   "id": "41a04988-804e-4e11-acc1-5dc0e5cc65cd",
   "metadata": {},
   "outputs": [
    {
     "data": {
      "text/plain": [
       "ano                              int64\n",
       "sigla_uf                        object\n",
       "id_municipio                     int64\n",
       "rede                            object\n",
       "ensino                          object\n",
       "anos_escolares                  object\n",
       "taxa_aprovacao                 float64\n",
       "indicador_rendimento           float64\n",
       "nota_saeb_matematica           float64\n",
       "nota_saeb_lingua_portuguesa    float64\n",
       "nota_saeb_media_padronizada    float64\n",
       "ideb                           float64\n",
       "projecao                       float64\n",
       "dtype: object"
      ]
     },
     "execution_count": 45,
     "metadata": {},
     "output_type": "execute_result"
    }
   ],
   "source": [
    "df.dtypes # mostra os tipos de dados presentes no conjunto de dados"
   ]
  },
  {
   "cell_type": "code",
   "execution_count": 46,
   "id": "718e9d8c-f7ba-447e-aefa-3ffbb4076f2d",
   "metadata": {},
   "outputs": [
    {
     "name": "stdout",
     "output_type": "stream",
     "text": [
      "<class 'pandas.core.frame.DataFrame'>\n",
      "RangeIndex: 294426 entries, 0 to 294425\n",
      "Data columns (total 13 columns):\n",
      " #   Column                       Non-Null Count   Dtype  \n",
      "---  ------                       --------------   -----  \n",
      " 0   ano                          294426 non-null  int64  \n",
      " 1   sigla_uf                     294426 non-null  object \n",
      " 2   id_municipio                 294426 non-null  int64  \n",
      " 3   rede                         294426 non-null  object \n",
      " 4   ensino                       294426 non-null  object \n",
      " 5   anos_escolares               294426 non-null  object \n",
      " 6   taxa_aprovacao               230833 non-null  float64\n",
      " 7   indicador_rendimento         230823 non-null  float64\n",
      " 8   nota_saeb_matematica         197870 non-null  float64\n",
      " 9   nota_saeb_lingua_portuguesa  197870 non-null  float64\n",
      " 10  nota_saeb_media_padronizada  222078 non-null  float64\n",
      " 11  ideb                         222045 non-null  float64\n",
      " 12  projecao                     242395 non-null  float64\n",
      "dtypes: float64(7), int64(2), object(4)\n",
      "memory usage: 29.2+ MB\n"
     ]
    }
   ],
   "source": [
    "## Como apresentar essas informações de uma única maneira\n",
    "\n",
    "df.info()"
   ]
  },
  {
   "cell_type": "markdown",
   "id": "72b5dca5-36ae-41d5-8b99-ea05857d7a3b",
   "metadata": {},
   "source": [
    "## Quais colunas possuem dados faltantes?"
   ]
  },
  {
   "cell_type": "code",
   "execution_count": 43,
   "id": "105b211e-0d08-4b8d-a052-835f72b1ce70",
   "metadata": {},
   "outputs": [
    {
     "data": {
      "text/plain": [
       "ano                                0\n",
       "sigla_uf                           0\n",
       "id_municipio                       0\n",
       "rede                               0\n",
       "ensino                             0\n",
       "anos_escolares                     0\n",
       "taxa_aprovacao                 63593\n",
       "indicador_rendimento           63603\n",
       "nota_saeb_matematica           96556\n",
       "nota_saeb_lingua_portuguesa    96556\n",
       "nota_saeb_media_padronizada    72348\n",
       "ideb                           72381\n",
       "projecao                       52031\n",
       "dtype: int64"
      ]
     },
     "execution_count": 43,
     "metadata": {},
     "output_type": "execute_result"
    }
   ],
   "source": [
    "df.isnull().sum()"
   ]
  },
  {
   "cell_type": "markdown",
   "id": "a0585365-5933-49ee-a600-9488a94775a8",
   "metadata": {
    "tags": []
   },
   "source": [
    "## O que fazemos com os dados que estão faltando? Quais ideias vocês sugerem?\n",
    "\n",
    "<img src=\"assets/duvida1.gif\">"
   ]
  },
  {
   "cell_type": "markdown",
   "id": "252b3781-f956-4c80-ad9b-465b52c42d20",
   "metadata": {
    "tags": []
   },
   "source": [
    "Há diversas abordagens para escolher o que se pode fazer com dados faltantes\n",
    "\n",
    "- Remover todos os valores nulos\n",
    "- Para valores numéricos: substituir todos os valores faltantes pela média, mediana, etc\n",
    "- Para valores categóricos: substituir pelo valor que mais recorrente\n",
    "\n",
    "Neste tutorial iremos seguir a primeira abordagem, remover todos os valores nulos."
   ]
  },
  {
   "cell_type": "markdown",
   "id": "cb2a65d4-860b-43f1-97f4-2974c12aee23",
   "metadata": {
    "tags": []
   },
   "source": [
    "## Limpeza dos dados"
   ]
  },
  {
   "cell_type": "code",
   "execution_count": 47,
   "id": "56ffc262-064b-4d75-8316-59abe1968378",
   "metadata": {},
   "outputs": [],
   "source": [
    "# Removendo valores nulos\n",
    "\n",
    "df.dropna(axis=0, inplace=True)"
   ]
  },
  {
   "cell_type": "code",
   "execution_count": 49,
   "id": "813581e1-c331-4c44-b7f0-48fc59e4458a",
   "metadata": {},
   "outputs": [
    {
     "name": "stdout",
     "output_type": "stream",
     "text": [
      "<class 'pandas.core.frame.DataFrame'>\n",
      "Int64Index: 158133 entries, 28839 to 253961\n",
      "Data columns (total 13 columns):\n",
      " #   Column                       Non-Null Count   Dtype  \n",
      "---  ------                       --------------   -----  \n",
      " 0   ano                          158133 non-null  int64  \n",
      " 1   sigla_uf                     158133 non-null  object \n",
      " 2   id_municipio                 158133 non-null  int64  \n",
      " 3   rede                         158133 non-null  object \n",
      " 4   ensino                       158133 non-null  object \n",
      " 5   anos_escolares               158133 non-null  object \n",
      " 6   taxa_aprovacao               158133 non-null  float64\n",
      " 7   indicador_rendimento         158133 non-null  float64\n",
      " 8   nota_saeb_matematica         158133 non-null  float64\n",
      " 9   nota_saeb_lingua_portuguesa  158133 non-null  float64\n",
      " 10  nota_saeb_media_padronizada  158133 non-null  float64\n",
      " 11  ideb                         158133 non-null  float64\n",
      " 12  projecao                     158133 non-null  float64\n",
      "dtypes: float64(7), int64(2), object(4)\n",
      "memory usage: 16.9+ MB\n"
     ]
    }
   ],
   "source": [
    "df.info()"
   ]
  },
  {
   "cell_type": "code",
   "execution_count": 50,
   "id": "9b43ec7a-23b7-4ef3-a91a-e5fa3a6b38a6",
   "metadata": {},
   "outputs": [
    {
     "name": "stdout",
     "output_type": "stream",
     "text": [
      "O dataset possui 158133 linhas\n"
     ]
    }
   ],
   "source": [
    "x = df.shape[0]\n",
    "\n",
    "print(\"O dataset possui %s linhas\" %x)"
   ]
  },
  {
   "cell_type": "markdown",
   "id": "196d70bb-439e-4442-ba3d-6aca065812b8",
   "metadata": {},
   "source": [
    "## Agora, vamos começar os trabalhos!!"
   ]
  },
  {
   "cell_type": "markdown",
   "id": "185a5a24-7e69-4c99-aeb4-61849be7579d",
   "metadata": {},
   "source": [
    "<img src=\"assets/lets.gif\" width=\"300px\">"
   ]
  },
  {
   "cell_type": "markdown",
   "id": "e97ebfbc-ddb3-436d-895e-c8fc4839c6e7",
   "metadata": {},
   "source": [
    "## Hmmm, Como os dados estão agora?"
   ]
  },
  {
   "cell_type": "code",
   "execution_count": 51,
   "id": "34506cd2-7fba-43c1-97e2-3036160115bf",
   "metadata": {},
   "outputs": [
    {
     "data": {
      "text/html": [
       "<div>\n",
       "<style scoped>\n",
       "    .dataframe tbody tr th:only-of-type {\n",
       "        vertical-align: middle;\n",
       "    }\n",
       "\n",
       "    .dataframe tbody tr th {\n",
       "        vertical-align: top;\n",
       "    }\n",
       "\n",
       "    .dataframe thead th {\n",
       "        text-align: right;\n",
       "    }\n",
       "</style>\n",
       "<table border=\"1\" class=\"dataframe\">\n",
       "  <thead>\n",
       "    <tr style=\"text-align: right;\">\n",
       "      <th></th>\n",
       "      <th>ano</th>\n",
       "      <th>sigla_uf</th>\n",
       "      <th>id_municipio</th>\n",
       "      <th>rede</th>\n",
       "      <th>ensino</th>\n",
       "      <th>anos_escolares</th>\n",
       "      <th>taxa_aprovacao</th>\n",
       "      <th>indicador_rendimento</th>\n",
       "      <th>nota_saeb_matematica</th>\n",
       "      <th>nota_saeb_lingua_portuguesa</th>\n",
       "      <th>nota_saeb_media_padronizada</th>\n",
       "      <th>ideb</th>\n",
       "      <th>projecao</th>\n",
       "    </tr>\n",
       "  </thead>\n",
       "  <tbody>\n",
       "    <tr>\n",
       "      <th>28839</th>\n",
       "      <td>2007</td>\n",
       "      <td>AC</td>\n",
       "      <td>1200013</td>\n",
       "      <td>estadual</td>\n",
       "      <td>fundamental</td>\n",
       "      <td>finais (6-9)</td>\n",
       "      <td>87.3</td>\n",
       "      <td>0.870601</td>\n",
       "      <td>235.00</td>\n",
       "      <td>221.32</td>\n",
       "      <td>4.272000</td>\n",
       "      <td>3.7</td>\n",
       "      <td>3.5</td>\n",
       "    </tr>\n",
       "    <tr>\n",
       "      <th>28840</th>\n",
       "      <td>2007</td>\n",
       "      <td>AC</td>\n",
       "      <td>1200013</td>\n",
       "      <td>estadual</td>\n",
       "      <td>fundamental</td>\n",
       "      <td>iniciais (1-5)</td>\n",
       "      <td>83.2</td>\n",
       "      <td>0.803809</td>\n",
       "      <td>165.13</td>\n",
       "      <td>151.88</td>\n",
       "      <td>3.876843</td>\n",
       "      <td>3.1</td>\n",
       "      <td>3.1</td>\n",
       "    </tr>\n",
       "    <tr>\n",
       "      <th>28842</th>\n",
       "      <td>2007</td>\n",
       "      <td>AC</td>\n",
       "      <td>1200013</td>\n",
       "      <td>municipal</td>\n",
       "      <td>fundamental</td>\n",
       "      <td>iniciais (1-5)</td>\n",
       "      <td>73.7</td>\n",
       "      <td>0.757963</td>\n",
       "      <td>178.88</td>\n",
       "      <td>157.08</td>\n",
       "      <td>4.234166</td>\n",
       "      <td>3.2</td>\n",
       "      <td>2.9</td>\n",
       "    </tr>\n",
       "    <tr>\n",
       "      <th>28843</th>\n",
       "      <td>2007</td>\n",
       "      <td>AC</td>\n",
       "      <td>1200013</td>\n",
       "      <td>publica</td>\n",
       "      <td>fundamental</td>\n",
       "      <td>finais (6-9)</td>\n",
       "      <td>88.4</td>\n",
       "      <td>0.883613</td>\n",
       "      <td>235.00</td>\n",
       "      <td>221.32</td>\n",
       "      <td>4.272000</td>\n",
       "      <td>3.8</td>\n",
       "      <td>3.5</td>\n",
       "    </tr>\n",
       "    <tr>\n",
       "      <th>28844</th>\n",
       "      <td>2007</td>\n",
       "      <td>AC</td>\n",
       "      <td>1200013</td>\n",
       "      <td>publica</td>\n",
       "      <td>fundamental</td>\n",
       "      <td>iniciais (1-5)</td>\n",
       "      <td>75.3</td>\n",
       "      <td>0.765777</td>\n",
       "      <td>172.46</td>\n",
       "      <td>154.66</td>\n",
       "      <td>4.067274</td>\n",
       "      <td>3.1</td>\n",
       "      <td>2.9</td>\n",
       "    </tr>\n",
       "  </tbody>\n",
       "</table>\n",
       "</div>"
      ],
      "text/plain": [
       "        ano sigla_uf  id_municipio       rede       ensino  anos_escolares  \\\n",
       "28839  2007       AC       1200013   estadual  fundamental    finais (6-9)   \n",
       "28840  2007       AC       1200013   estadual  fundamental  iniciais (1-5)   \n",
       "28842  2007       AC       1200013  municipal  fundamental  iniciais (1-5)   \n",
       "28843  2007       AC       1200013    publica  fundamental    finais (6-9)   \n",
       "28844  2007       AC       1200013    publica  fundamental  iniciais (1-5)   \n",
       "\n",
       "       taxa_aprovacao  indicador_rendimento  nota_saeb_matematica  \\\n",
       "28839            87.3              0.870601                235.00   \n",
       "28840            83.2              0.803809                165.13   \n",
       "28842            73.7              0.757963                178.88   \n",
       "28843            88.4              0.883613                235.00   \n",
       "28844            75.3              0.765777                172.46   \n",
       "\n",
       "       nota_saeb_lingua_portuguesa  nota_saeb_media_padronizada  ideb  \\\n",
       "28839                       221.32                     4.272000   3.7   \n",
       "28840                       151.88                     3.876843   3.1   \n",
       "28842                       157.08                     4.234166   3.2   \n",
       "28843                       221.32                     4.272000   3.8   \n",
       "28844                       154.66                     4.067274   3.1   \n",
       "\n",
       "       projecao  \n",
       "28839       3.5  \n",
       "28840       3.1  \n",
       "28842       2.9  \n",
       "28843       3.5  \n",
       "28844       2.9  "
      ]
     },
     "execution_count": 51,
     "metadata": {},
     "output_type": "execute_result"
    }
   ],
   "source": [
    "df.head()"
   ]
  },
  {
   "cell_type": "markdown",
   "id": "966d04e6-0800-4507-8688-8592729cffd1",
   "metadata": {},
   "source": [
    "# Análise exploratória dos dados\n",
    "\n",
    "Conseguimos responder algumas perguntas que fizemos lá em cima! Bora lá?!"
   ]
  },
  {
   "cell_type": "markdown",
   "id": "c105fb43-bf91-4e42-9d2f-24c991a610de",
   "metadata": {},
   "source": [
    "## Qual taxa média de aprovação em todos os estados?"
   ]
  },
  {
   "cell_type": "code",
   "execution_count": 62,
   "id": "0d7fc1c7-0e73-4bd1-9f68-b6fa9865fa2f",
   "metadata": {},
   "outputs": [
    {
     "name": "stdout",
     "output_type": "stream",
     "text": [
      "A taxa média de aprovação entre todos os estados é 87.17310681514876\n"
     ]
    }
   ],
   "source": [
    "media = df[\"taxa_aprovacao\"].mean()\n",
    "\n",
    "print(\"A taxa média de aprovação entre todos os estados é\", media)"
   ]
  },
  {
   "cell_type": "markdown",
   "id": "f5724d02-dc8a-4868-97bc-77bd9c60db04",
   "metadata": {},
   "source": [
    "## Qual a menor média da taxa de aprovação em todos os estados?"
   ]
  },
  {
   "cell_type": "code",
   "execution_count": 63,
   "id": "eedd5572-7304-43f7-8f21-3eafa98ff7e5",
   "metadata": {},
   "outputs": [
    {
     "name": "stdout",
     "output_type": "stream",
     "text": [
      "A menor taxa de aprovação entre todos os estados é 6.1\n"
     ]
    }
   ],
   "source": [
    "menor_media = df[\"taxa_aprovacao\"].min()\n",
    "\n",
    "print(\"A menor taxa de aprovação entre todos os estados é\", menor_media)"
   ]
  },
  {
   "cell_type": "markdown",
   "id": "26e2a1db-0399-48f3-9db8-f4397eea5b18",
   "metadata": {},
   "source": [
    "## Qual a maior média da taxa de aprovação em todos os estados?"
   ]
  },
  {
   "cell_type": "code",
   "execution_count": 64,
   "id": "11953e54-91f9-474a-bdd5-28d81e4d9181",
   "metadata": {},
   "outputs": [
    {
     "name": "stdout",
     "output_type": "stream",
     "text": [
      "A maior taxa de aprovação entre todos os estados é 100.0\n"
     ]
    }
   ],
   "source": [
    "maior_media = df[\"taxa_aprovacao\"].max()\n",
    "\n",
    "print(\"A maior taxa de aprovação entre todos os estados é\", maior_media)"
   ]
  },
  {
   "cell_type": "markdown",
   "id": "9438f50f-a2f4-4c31-92f3-88d1007935b4",
   "metadata": {},
   "source": [
    "## Qual o estado com menor média? "
   ]
  },
  {
   "cell_type": "code",
   "execution_count": 69,
   "id": "842ee56a-4a77-4cca-aca4-ed4741bec216",
   "metadata": {},
   "outputs": [
    {
     "data": {
      "text/html": [
       "<div>\n",
       "<style scoped>\n",
       "    .dataframe tbody tr th:only-of-type {\n",
       "        vertical-align: middle;\n",
       "    }\n",
       "\n",
       "    .dataframe tbody tr th {\n",
       "        vertical-align: top;\n",
       "    }\n",
       "\n",
       "    .dataframe thead th {\n",
       "        text-align: right;\n",
       "    }\n",
       "</style>\n",
       "<table border=\"1\" class=\"dataframe\">\n",
       "  <thead>\n",
       "    <tr style=\"text-align: right;\">\n",
       "      <th></th>\n",
       "      <th>ano</th>\n",
       "      <th>sigla_uf</th>\n",
       "      <th>id_municipio</th>\n",
       "      <th>rede</th>\n",
       "      <th>ensino</th>\n",
       "      <th>anos_escolares</th>\n",
       "      <th>taxa_aprovacao</th>\n",
       "      <th>indicador_rendimento</th>\n",
       "      <th>nota_saeb_matematica</th>\n",
       "      <th>nota_saeb_lingua_portuguesa</th>\n",
       "      <th>nota_saeb_media_padronizada</th>\n",
       "      <th>ideb</th>\n",
       "      <th>projecao</th>\n",
       "    </tr>\n",
       "  </thead>\n",
       "  <tbody>\n",
       "    <tr>\n",
       "      <th>41967</th>\n",
       "      <td>2007</td>\n",
       "      <td>PA</td>\n",
       "      <td>1505700</td>\n",
       "      <td>estadual</td>\n",
       "      <td>fundamental</td>\n",
       "      <td>iniciais (1-5)</td>\n",
       "      <td>6.1</td>\n",
       "      <td>0.027385</td>\n",
       "      <td>170.66</td>\n",
       "      <td>160.11</td>\n",
       "      <td>4.132387</td>\n",
       "      <td>0.1</td>\n",
       "      <td>3.1</td>\n",
       "    </tr>\n",
       "  </tbody>\n",
       "</table>\n",
       "</div>"
      ],
      "text/plain": [
       "        ano sigla_uf  id_municipio      rede       ensino  anos_escolares  \\\n",
       "41967  2007       PA       1505700  estadual  fundamental  iniciais (1-5)   \n",
       "\n",
       "       taxa_aprovacao  indicador_rendimento  nota_saeb_matematica  \\\n",
       "41967             6.1              0.027385                170.66   \n",
       "\n",
       "       nota_saeb_lingua_portuguesa  nota_saeb_media_padronizada  ideb  \\\n",
       "41967                       160.11                     4.132387   0.1   \n",
       "\n",
       "       projecao  \n",
       "41967       3.1  "
      ]
     },
     "execution_count": 69,
     "metadata": {},
     "output_type": "execute_result"
    }
   ],
   "source": [
    "df[df[\"taxa_aprovacao\"] == menor_media]"
   ]
  },
  {
   "cell_type": "code",
   "execution_count": 70,
   "id": "459817eb-663a-4d5d-b333-979de70cdb88",
   "metadata": {},
   "outputs": [
    {
     "data": {
      "text/html": [
       "<div>\n",
       "<style scoped>\n",
       "    .dataframe tbody tr th:only-of-type {\n",
       "        vertical-align: middle;\n",
       "    }\n",
       "\n",
       "    .dataframe tbody tr th {\n",
       "        vertical-align: top;\n",
       "    }\n",
       "\n",
       "    .dataframe thead th {\n",
       "        text-align: right;\n",
       "    }\n",
       "</style>\n",
       "<table border=\"1\" class=\"dataframe\">\n",
       "  <thead>\n",
       "    <tr style=\"text-align: right;\">\n",
       "      <th></th>\n",
       "      <th>ano</th>\n",
       "      <th>sigla_uf</th>\n",
       "      <th>id_municipio</th>\n",
       "      <th>rede</th>\n",
       "      <th>ensino</th>\n",
       "      <th>anos_escolares</th>\n",
       "      <th>taxa_aprovacao</th>\n",
       "      <th>indicador_rendimento</th>\n",
       "      <th>nota_saeb_matematica</th>\n",
       "      <th>nota_saeb_lingua_portuguesa</th>\n",
       "      <th>nota_saeb_media_padronizada</th>\n",
       "      <th>ideb</th>\n",
       "      <th>projecao</th>\n",
       "    </tr>\n",
       "  </thead>\n",
       "  <tbody>\n",
       "    <tr>\n",
       "      <th>29343</th>\n",
       "      <td>2007</td>\n",
       "      <td>AL</td>\n",
       "      <td>2706448</td>\n",
       "      <td>estadual</td>\n",
       "      <td>fundamental</td>\n",
       "      <td>iniciais (1-5)</td>\n",
       "      <td>100.0</td>\n",
       "      <td>1.0</td>\n",
       "      <td>171.19</td>\n",
       "      <td>149.35</td>\n",
       "      <td>3.946683</td>\n",
       "      <td>3.9</td>\n",
       "      <td>3.3</td>\n",
       "    </tr>\n",
       "    <tr>\n",
       "      <th>31002</th>\n",
       "      <td>2007</td>\n",
       "      <td>BA</td>\n",
       "      <td>2916500</td>\n",
       "      <td>municipal</td>\n",
       "      <td>fundamental</td>\n",
       "      <td>iniciais (1-5)</td>\n",
       "      <td>100.0</td>\n",
       "      <td>1.0</td>\n",
       "      <td>172.38</td>\n",
       "      <td>158.80</td>\n",
       "      <td>4.141202</td>\n",
       "      <td>4.1</td>\n",
       "      <td>2.5</td>\n",
       "    </tr>\n",
       "    <tr>\n",
       "      <th>31004</th>\n",
       "      <td>2007</td>\n",
       "      <td>BA</td>\n",
       "      <td>2916500</td>\n",
       "      <td>publica</td>\n",
       "      <td>fundamental</td>\n",
       "      <td>iniciais (1-5)</td>\n",
       "      <td>100.0</td>\n",
       "      <td>1.0</td>\n",
       "      <td>172.38</td>\n",
       "      <td>158.80</td>\n",
       "      <td>4.141202</td>\n",
       "      <td>4.1</td>\n",
       "      <td>2.5</td>\n",
       "    </tr>\n",
       "    <tr>\n",
       "      <th>31267</th>\n",
       "      <td>2007</td>\n",
       "      <td>BA</td>\n",
       "      <td>2920452</td>\n",
       "      <td>municipal</td>\n",
       "      <td>fundamental</td>\n",
       "      <td>finais (6-9)</td>\n",
       "      <td>100.0</td>\n",
       "      <td>1.0</td>\n",
       "      <td>204.96</td>\n",
       "      <td>192.07</td>\n",
       "      <td>3.283833</td>\n",
       "      <td>3.3</td>\n",
       "      <td>2.8</td>\n",
       "    </tr>\n",
       "    <tr>\n",
       "      <th>33648</th>\n",
       "      <td>2007</td>\n",
       "      <td>GO</td>\n",
       "      <td>5202601</td>\n",
       "      <td>estadual</td>\n",
       "      <td>fundamental</td>\n",
       "      <td>iniciais (1-5)</td>\n",
       "      <td>100.0</td>\n",
       "      <td>1.0</td>\n",
       "      <td>167.52</td>\n",
       "      <td>151.89</td>\n",
       "      <td>3.922817</td>\n",
       "      <td>3.9</td>\n",
       "      <td>3.8</td>\n",
       "    </tr>\n",
       "    <tr>\n",
       "      <th>...</th>\n",
       "      <td>...</td>\n",
       "      <td>...</td>\n",
       "      <td>...</td>\n",
       "      <td>...</td>\n",
       "      <td>...</td>\n",
       "      <td>...</td>\n",
       "      <td>...</td>\n",
       "      <td>...</td>\n",
       "      <td>...</td>\n",
       "      <td>...</td>\n",
       "      <td>...</td>\n",
       "      <td>...</td>\n",
       "      <td>...</td>\n",
       "    </tr>\n",
       "    <tr>\n",
       "      <th>253443</th>\n",
       "      <td>2019</td>\n",
       "      <td>TO</td>\n",
       "      <td>1712157</td>\n",
       "      <td>publica</td>\n",
       "      <td>medio</td>\n",
       "      <td>todos (1-4)</td>\n",
       "      <td>100.0</td>\n",
       "      <td>1.0</td>\n",
       "      <td>244.49</td>\n",
       "      <td>248.27</td>\n",
       "      <td>3.839979</td>\n",
       "      <td>3.8</td>\n",
       "      <td>4.3</td>\n",
       "    </tr>\n",
       "    <tr>\n",
       "      <th>253454</th>\n",
       "      <td>2019</td>\n",
       "      <td>TO</td>\n",
       "      <td>1712454</td>\n",
       "      <td>estadual</td>\n",
       "      <td>medio</td>\n",
       "      <td>todos (1-4)</td>\n",
       "      <td>100.0</td>\n",
       "      <td>1.0</td>\n",
       "      <td>263.35</td>\n",
       "      <td>260.13</td>\n",
       "      <td>4.282552</td>\n",
       "      <td>4.3</td>\n",
       "      <td>4.2</td>\n",
       "    </tr>\n",
       "    <tr>\n",
       "      <th>253458</th>\n",
       "      <td>2019</td>\n",
       "      <td>TO</td>\n",
       "      <td>1712454</td>\n",
       "      <td>publica</td>\n",
       "      <td>medio</td>\n",
       "      <td>todos (1-4)</td>\n",
       "      <td>100.0</td>\n",
       "      <td>1.0</td>\n",
       "      <td>263.35</td>\n",
       "      <td>260.13</td>\n",
       "      <td>4.282552</td>\n",
       "      <td>4.3</td>\n",
       "      <td>4.2</td>\n",
       "    </tr>\n",
       "    <tr>\n",
       "      <th>253476</th>\n",
       "      <td>2019</td>\n",
       "      <td>TO</td>\n",
       "      <td>1712801</td>\n",
       "      <td>estadual</td>\n",
       "      <td>medio</td>\n",
       "      <td>todos (1-4)</td>\n",
       "      <td>100.0</td>\n",
       "      <td>1.0</td>\n",
       "      <td>253.64</td>\n",
       "      <td>249.96</td>\n",
       "      <td>3.993930</td>\n",
       "      <td>4.0</td>\n",
       "      <td>3.7</td>\n",
       "    </tr>\n",
       "    <tr>\n",
       "      <th>253481</th>\n",
       "      <td>2019</td>\n",
       "      <td>TO</td>\n",
       "      <td>1712801</td>\n",
       "      <td>publica</td>\n",
       "      <td>medio</td>\n",
       "      <td>todos (1-4)</td>\n",
       "      <td>100.0</td>\n",
       "      <td>1.0</td>\n",
       "      <td>253.64</td>\n",
       "      <td>249.96</td>\n",
       "      <td>3.993930</td>\n",
       "      <td>4.0</td>\n",
       "      <td>3.7</td>\n",
       "    </tr>\n",
       "  </tbody>\n",
       "</table>\n",
       "<p>4016 rows × 13 columns</p>\n",
       "</div>"
      ],
      "text/plain": [
       "         ano sigla_uf  id_municipio       rede       ensino  anos_escolares  \\\n",
       "29343   2007       AL       2706448   estadual  fundamental  iniciais (1-5)   \n",
       "31002   2007       BA       2916500  municipal  fundamental  iniciais (1-5)   \n",
       "31004   2007       BA       2916500    publica  fundamental  iniciais (1-5)   \n",
       "31267   2007       BA       2920452  municipal  fundamental    finais (6-9)   \n",
       "33648   2007       GO       5202601   estadual  fundamental  iniciais (1-5)   \n",
       "...      ...      ...           ...        ...          ...             ...   \n",
       "253443  2019       TO       1712157    publica        medio     todos (1-4)   \n",
       "253454  2019       TO       1712454   estadual        medio     todos (1-4)   \n",
       "253458  2019       TO       1712454    publica        medio     todos (1-4)   \n",
       "253476  2019       TO       1712801   estadual        medio     todos (1-4)   \n",
       "253481  2019       TO       1712801    publica        medio     todos (1-4)   \n",
       "\n",
       "        taxa_aprovacao  indicador_rendimento  nota_saeb_matematica  \\\n",
       "29343            100.0                   1.0                171.19   \n",
       "31002            100.0                   1.0                172.38   \n",
       "31004            100.0                   1.0                172.38   \n",
       "31267            100.0                   1.0                204.96   \n",
       "33648            100.0                   1.0                167.52   \n",
       "...                ...                   ...                   ...   \n",
       "253443           100.0                   1.0                244.49   \n",
       "253454           100.0                   1.0                263.35   \n",
       "253458           100.0                   1.0                263.35   \n",
       "253476           100.0                   1.0                253.64   \n",
       "253481           100.0                   1.0                253.64   \n",
       "\n",
       "        nota_saeb_lingua_portuguesa  nota_saeb_media_padronizada  ideb  \\\n",
       "29343                        149.35                     3.946683   3.9   \n",
       "31002                        158.80                     4.141202   4.1   \n",
       "31004                        158.80                     4.141202   4.1   \n",
       "31267                        192.07                     3.283833   3.3   \n",
       "33648                        151.89                     3.922817   3.9   \n",
       "...                             ...                          ...   ...   \n",
       "253443                       248.27                     3.839979   3.8   \n",
       "253454                       260.13                     4.282552   4.3   \n",
       "253458                       260.13                     4.282552   4.3   \n",
       "253476                       249.96                     3.993930   4.0   \n",
       "253481                       249.96                     3.993930   4.0   \n",
       "\n",
       "        projecao  \n",
       "29343        3.3  \n",
       "31002        2.5  \n",
       "31004        2.5  \n",
       "31267        2.8  \n",
       "33648        3.8  \n",
       "...          ...  \n",
       "253443       4.3  \n",
       "253454       4.2  \n",
       "253458       4.2  \n",
       "253476       3.7  \n",
       "253481       3.7  \n",
       "\n",
       "[4016 rows x 13 columns]"
      ]
     },
     "execution_count": 70,
     "metadata": {},
     "output_type": "execute_result"
    }
   ],
   "source": [
    "df[df[\"taxa_aprovacao\"] == maior_media]"
   ]
  },
  {
   "cell_type": "code",
   "execution_count": null,
   "id": "582d1544-cf88-423c-8590-bf5f9dc2b0fc",
   "metadata": {},
   "outputs": [],
   "source": []
  },
  {
   "cell_type": "code",
   "execution_count": null,
   "id": "c9c39005-b76a-4901-b69a-76b0cefda7e3",
   "metadata": {},
   "outputs": [],
   "source": []
  }
 ],
 "metadata": {
  "kernelspec": {
   "display_name": "Python 3",
   "language": "python",
   "name": "python3"
  },
  "language_info": {
   "codemirror_mode": {
    "name": "ipython",
    "version": 3
   },
   "file_extension": ".py",
   "mimetype": "text/x-python",
   "name": "python",
   "nbconvert_exporter": "python",
   "pygments_lexer": "ipython3",
   "version": "3.8.8"
  }
 },
 "nbformat": 4,
 "nbformat_minor": 5
}
